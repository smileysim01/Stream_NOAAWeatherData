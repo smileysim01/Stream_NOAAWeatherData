{
 "cells": [
  {
   "cell_type": "code",
   "execution_count": 1,
   "id": "44722ef8-f67f-47c2-82b2-9d46450fad68",
   "metadata": {},
   "outputs": [],
   "source": [
    "import datetime, time, random, string\n",
    "\n",
    "def one_station(name):\n",
    "    # temp pattern\n",
    "    month_avg = [27,31,44,58,70,79,83,81,74,61,46,32]\n",
    "    shift = (random.random()-0.5) * 30\n",
    "    month_avg = [m + shift + (random.random()-0.5) * 5 for m in month_avg]\n",
    "    \n",
    "    # rain pattern\n",
    "    start_rain = [0.1,0.1,0.3,0.5,0.4,0.2,0.2,0.1,0.2,0.2,0.2,0.1]\n",
    "    shift = (random.random()-0.5) * 0.1\n",
    "    start_rain = [r + shift + (random.random() - 0.5) * 0.2 for r in start_rain]\n",
    "    stop_rain = 0.2 + random.random() * 0.2\n",
    "\n",
    "    # day's state\n",
    "    today = datetime.date(2000, 1, 1)\n",
    "    temp = month_avg[0]\n",
    "    raining = False\n",
    "    \n",
    "    # gen weather\n",
    "    while True:\n",
    "        # choose temp+rain\n",
    "        month = today.month - 1\n",
    "        temp = temp * 0.8 + month_avg[month] * 0.2 + (random.random()-0.5) * 20\n",
    "        if temp < 32:\n",
    "            raining=False\n",
    "        elif raining and random.random() < stop_rain:\n",
    "            raining = False\n",
    "        elif not raining and random.random() < start_rain[month]:\n",
    "            raining = True\n",
    "\n",
    "        yield (today.strftime(\"%Y-%m-%d\"), name, temp, raining)\n",
    "\n",
    "        # next day\n",
    "        today += datetime.timedelta(days=1)\n",
    "        \n",
    "def all_stations(count=10, sleep_sec=1):\n",
    "    assert count <= 26\n",
    "    stations = []\n",
    "    for name in string.ascii_uppercase[:count]:\n",
    "        stations.append(one_station(name))\n",
    "    while True:\n",
    "        for station in stations:\n",
    "            yield next(station)\n",
    "        time.sleep(sleep_sec)"
   ]
  },
  {
   "cell_type": "code",
   "execution_count": 2,
   "id": "7f4dfa65-404d-473a-8bce-fcc2bbcefc59",
   "metadata": {},
   "outputs": [
    {
     "name": "stdout",
     "output_type": "stream",
     "text": [
      "('2000-01-01', 'A', 14.624324696251467, False)\n",
      "('2000-01-01', 'B', 28.569073444183076, False)\n",
      "('2000-01-01', 'C', 24.8666061057328, False)\n",
      "('2000-01-02', 'A', 17.59238292310423, False)\n",
      "('2000-01-02', 'B', 25.962002194419092, False)\n",
      "('2000-01-02', 'C', 31.27538841258746, False)\n",
      "('2000-01-03', 'A', 18.38805119134942, False)\n",
      "('2000-01-03', 'B', 18.894169876477296, False)\n",
      "('2000-01-03', 'C', 31.73930889799926, False)\n",
      "('2000-01-04', 'A', 25.376209017982887, False)\n",
      "('2000-01-04', 'B', 16.825901727030388, False)\n",
      "('2000-01-04', 'C', 34.660139426896805, False)\n",
      "('2000-01-05', 'A', 33.23279847601561, False)\n",
      "('2000-01-05', 'B', 13.971304204995596, False)\n",
      "('2000-01-05', 'C', 27.05587204717956, False)\n"
     ]
    },
    {
     "ename": "KeyboardInterrupt",
     "evalue": "",
     "output_type": "error",
     "traceback": [
      "\u001b[0;31m---------------------------------------------------------------------------\u001b[0m",
      "\u001b[0;31mKeyboardInterrupt\u001b[0m                         Traceback (most recent call last)",
      "Cell \u001b[0;32mIn[2], line 2\u001b[0m\n\u001b[1;32m      1\u001b[0m \u001b[38;5;66;03m# loops forever because the weather never ends...\u001b[39;00m\n\u001b[0;32m----> 2\u001b[0m \u001b[38;5;28;01mfor\u001b[39;00m row \u001b[38;5;129;01min\u001b[39;00m all_stations(\u001b[38;5;241m3\u001b[39m):\n\u001b[1;32m      3\u001b[0m     \u001b[38;5;28mprint\u001b[39m(row) \u001b[38;5;66;03m# date, station, temp, raining\u001b[39;00m\n",
      "Cell \u001b[0;32mIn[1], line 45\u001b[0m, in \u001b[0;36mall_stations\u001b[0;34m(count, sleep_sec)\u001b[0m\n\u001b[1;32m     43\u001b[0m \u001b[38;5;28;01mfor\u001b[39;00m station \u001b[38;5;129;01min\u001b[39;00m stations:\n\u001b[1;32m     44\u001b[0m     \u001b[38;5;28;01myield\u001b[39;00m \u001b[38;5;28mnext\u001b[39m(station)\n\u001b[0;32m---> 45\u001b[0m \u001b[43mtime\u001b[49m\u001b[38;5;241;43m.\u001b[39;49m\u001b[43msleep\u001b[49m\u001b[43m(\u001b[49m\u001b[43msleep_sec\u001b[49m\u001b[43m)\u001b[49m\n",
      "\u001b[0;31mKeyboardInterrupt\u001b[0m: "
     ]
    }
   ],
   "source": [
    "# loops forever because the weather never ends...\n",
    "for row in all_stations(3):\n",
    "    print(row) # date, station, temp, raining"
   ]
  },
  {
   "cell_type": "code",
   "execution_count": 3,
   "id": "b93d4c92-934f-4f4c-a772-b181ad1c1dc2",
   "metadata": {},
   "outputs": [],
   "source": [
    "from kafka import KafkaAdminClient, KafkaProducer, KafkaConsumer, TopicPartition\n",
    "from kafka.admin import NewTopic\n",
    "from kafka.errors import TopicAlreadyExistsError, UnknownTopicOrPartitionError\n",
    "\n",
    "broker = \"kafka:9092\"\n",
    "admin = KafkaAdminClient(bootstrap_servers =[broker])"
   ]
  },
  {
   "cell_type": "code",
   "execution_count": 4,
   "id": "a617bb72-084c-46a2-a2df-1f041e36ec92",
   "metadata": {},
   "outputs": [
    {
     "name": "stdout",
     "output_type": "stream",
     "text": [
      "cannot delete (may not exist yet)\n"
     ]
    },
    {
     "data": {
      "text/plain": [
       "['stations-json', 'stations']"
      ]
     },
     "execution_count": 4,
     "metadata": {},
     "output_type": "execute_result"
    }
   ],
   "source": [
    "from kafka import KafkaAdminClient, KafkaProducer, KafkaConsumer, TopicPartition\n",
    "from kafka.admin import NewTopic\n",
    "from kafka.errors import TopicAlreadyExistsError, UnknownTopicOrPartitionError\n",
    "\n",
    "broker = \"kafka:9092\"\n",
    "admin = KafkaAdminClient(bootstrap_servers =[broker])\n",
    "try:\n",
    "    admin.delete_topics([\"stations\", \"stations-json\"])\n",
    "    print(\"deleted\")\n",
    "except UnknownTopicOrPartitionError:\n",
    "    print(\"cannot delete (may not exist yet)\")\n",
    "\n",
    "time.sleep(1)\n",
    "admin.create_topics([NewTopic(\"stations\", 6, 1)])\n",
    "admin.create_topics([NewTopic(\"stations-json\", 6, 1)])\n",
    "admin.list_topics()"
   ]
  },
  {
   "cell_type": "code",
   "execution_count": 8,
   "id": "b663df14-951e-4340-98df-1c1ad2829f0c",
   "metadata": {},
   "outputs": [],
   "source": [
    "!python3 -m grpc_tools.protoc -I=. --python_out=. --grpc_python_out=. message.proto"
   ]
  },
  {
   "cell_type": "code",
   "execution_count": null,
   "id": "54396655-1230-475d-9b3b-5ee767a18bb9",
   "metadata": {},
   "outputs": [],
   "source": []
  }
 ],
 "metadata": {
  "kernelspec": {
   "display_name": "Python 3 (ipykernel)",
   "language": "python",
   "name": "python3"
  },
  "language_info": {
   "codemirror_mode": {
    "name": "ipython",
    "version": 3
   },
   "file_extension": ".py",
   "mimetype": "text/x-python",
   "name": "python",
   "nbconvert_exporter": "python",
   "pygments_lexer": "ipython3",
   "version": "3.10.6"
  }
 },
 "nbformat": 4,
 "nbformat_minor": 5
}
