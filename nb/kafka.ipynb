{
 "cells": [
  {
   "cell_type": "code",
   "execution_count": 1,
   "id": "44722ef8-f67f-47c2-82b2-9d46450fad68",
   "metadata": {},
   "outputs": [],
   "source": [
    "import datetime, time, random, string\n",
    "\n",
    "def one_station(name):\n",
    "    # temp pattern\n",
    "    month_avg = [27,31,44,58,70,79,83,81,74,61,46,32]\n",
    "    shift = (random.random()-0.5) * 30\n",
    "    month_avg = [m + shift + (random.random()-0.5) * 5 for m in month_avg]\n",
    "    \n",
    "    # rain pattern\n",
    "    start_rain = [0.1,0.1,0.3,0.5,0.4,0.2,0.2,0.1,0.2,0.2,0.2,0.1]\n",
    "    shift = (random.random()-0.5) * 0.1\n",
    "    start_rain = [r + shift + (random.random() - 0.5) * 0.2 for r in start_rain]\n",
    "    stop_rain = 0.2 + random.random() * 0.2\n",
    "\n",
    "    # day's state\n",
    "    today = datetime.date(2000, 1, 1)\n",
    "    temp = month_avg[0]\n",
    "    raining = False\n",
    "    \n",
    "    # gen weather\n",
    "    while True:\n",
    "        # choose temp+rain\n",
    "        month = today.month - 1\n",
    "        temp = temp * 0.8 + month_avg[month] * 0.2 + (random.random()-0.5) * 20\n",
    "        if temp < 32:\n",
    "            raining=False\n",
    "        elif raining and random.random() < stop_rain:\n",
    "            raining = False\n",
    "        elif not raining and random.random() < start_rain[month]:\n",
    "            raining = True\n",
    "\n",
    "        yield (today.strftime(\"%Y-%m-%d\"), name, temp, raining)\n",
    "\n",
    "        # next day\n",
    "        today += datetime.timedelta(days=1)\n",
    "        \n",
    "def all_stations(count=10, sleep_sec=1):\n",
    "    assert count <= 26\n",
    "    stations = []\n",
    "    for name in string.ascii_uppercase[:count]:\n",
    "        stations.append(one_station(name))\n",
    "    while True:\n",
    "        for station in stations:\n",
    "            yield next(station)\n",
    "        time.sleep(sleep_sec)"
   ]
  },
  {
   "cell_type": "code",
   "execution_count": 3,
   "id": "b93d4c92-934f-4f4c-a772-b181ad1c1dc2",
   "metadata": {},
   "outputs": [],
   "source": [
    "from kafka import KafkaAdminClient, KafkaProducer, KafkaConsumer, TopicPartition\n",
    "from kafka.admin import NewTopic\n",
    "from kafka.errors import TopicAlreadyExistsError, UnknownTopicOrPartitionError\n",
    "\n",
    "broker = \"kafka:9092\"\n",
    "admin = KafkaAdminClient(bootstrap_servers =[broker])"
   ]
  },
  {
   "cell_type": "code",
   "execution_count": 4,
   "id": "a617bb72-084c-46a2-a2df-1f041e36ec92",
   "metadata": {},
   "outputs": [
    {
     "name": "stdout",
     "output_type": "stream",
     "text": [
      "cannot delete (may not exist yet)\n"
     ]
    },
    {
     "data": {
      "text/plain": [
       "['stations-json', 'stations']"
      ]
     },
     "execution_count": 4,
     "metadata": {},
     "output_type": "execute_result"
    }
   ],
   "source": [
    "from kafka import KafkaAdminClient, KafkaProducer, KafkaConsumer, TopicPartition\n",
    "from kafka.admin import NewTopic\n",
    "from kafka.errors import TopicAlreadyExistsError, UnknownTopicOrPartitionError\n",
    "\n",
    "broker = \"kafka:9092\"\n",
    "admin = KafkaAdminClient(bootstrap_servers =[broker])\n",
    "try:\n",
    "    admin.delete_topics([\"stations\", \"stations-json\"])\n",
    "    print(\"deleted\")\n",
    "except UnknownTopicOrPartitionError:\n",
    "    print(\"cannot delete (may not exist yet)\")\n",
    "\n",
    "time.sleep(1)\n",
    "admin.create_topics([NewTopic(\"stations\", 6, 1)])\n",
    "admin.create_topics([NewTopic(\"stations-json\", 6, 1)])\n",
    "admin.list_topics()"
   ]
  },
  {
   "cell_type": "code",
   "execution_count": 16,
   "id": "4de1c4fd-f121-437d-b8a6-949c0520550f",
   "metadata": {},
   "outputs": [],
   "source": [
    "from message_pb2 import *\n",
    "from threading import Thread\n",
    "import threading,json\n",
    "def produce():\n",
    "    producer = KafkaProducer(bootstrap_servers=[\"kafka:9092\"],retries=10,acks=-1)\n",
    "    \n",
    "    for date, station, degrees, raining in all_stations(15):\n",
    "        #print(date, station, degrees, raining)\n",
    "        s = Report(date=date, station=station,degrees=(degrees),raining=raining)\n",
    "        value = s.SerializeToString()\n",
    "        key=station.encode('utf-8')\n",
    "        producer.send('stations',key=key ,value=value)\n",
    "        value_json = {\"date\": date, \"station\": station,'degrees':(degrees),'raining':int(raining)}\n",
    "        value_json = bytes(json.dumps(value_json), \"utf-8\")\n",
    "        producer.send('stations-json',key=key,value=value_json)\n",
    "        # TODO: send to \"stations\" stream using protobuf\n",
    "        # TODO: send to \"stations-json\" using JSON\n",
    "\n",
    "# TODO: start thread to run produce\n",
    "threading.Thread(target=produce).start()\n",
    "# never join thread because we want it to run forever"
   ]
  },
  {
   "cell_type": "code",
   "execution_count": 20,
   "id": "e4b6d3fd-3732-48b8-8b50-7b81668ce858",
   "metadata": {},
   "outputs": [
    {
     "data": {
      "text/plain": [
       "0"
      ]
     },
     "execution_count": 20,
     "metadata": {},
     "output_type": "execute_result"
    }
   ],
   "source": [
    "int(False)"
   ]
  },
  {
   "cell_type": "code",
   "execution_count": 23,
   "id": "e90a28ae-5cd7-45ad-8a98-92270c6e9aa8",
   "metadata": {},
   "outputs": [],
   "source": [
    "value_json = {\"beach\": '2000-01-01', \"animal\": '343','degrees':int(45),'raining':int(False)}"
   ]
  },
  {
   "cell_type": "code",
   "execution_count": 24,
   "id": "af5254d4-3e00-4bd0-b103-33801438d4ee",
   "metadata": {},
   "outputs": [
    {
     "data": {
      "text/plain": [
       "{'beach': '2000-01-01', 'animal': '343', 'degrees': 45, 'raining': 0}"
      ]
     },
     "execution_count": 24,
     "metadata": {},
     "output_type": "execute_result"
    }
   ],
   "source": [
    "value_json"
   ]
  },
  {
   "cell_type": "code",
   "execution_count": null,
   "id": "c46a189f-a314-4290-ab56-488597b45f89",
   "metadata": {},
   "outputs": [],
   "source": []
  }
 ],
 "metadata": {
  "kernelspec": {
   "display_name": "Python 3 (ipykernel)",
   "language": "python",
   "name": "python3"
  },
  "language_info": {
   "codemirror_mode": {
    "name": "ipython",
    "version": 3
   },
   "file_extension": ".py",
   "mimetype": "text/x-python",
   "name": "python",
   "nbconvert_exporter": "python",
   "pygments_lexer": "ipython3",
   "version": "3.10.6"
  }
 },
 "nbformat": 4,
 "nbformat_minor": 5
}
